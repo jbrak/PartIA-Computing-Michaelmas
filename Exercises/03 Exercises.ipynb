{
 "cells": [
  {
   "cell_type": "markdown",
   "metadata": {
    "nbgrader": {
     "grade": false,
     "grade_id": "cell-bccc9a5624d0e0f9",
     "locked": true,
     "schema_version": 3,
     "solution": false
    }
   },
   "source": [
    "<!-- BEGIN QUESTION -->\n",
    "\n",
    "## Exercise 03.1\n",
    "\n",
    "Compare the computed values of \n",
    "\n",
    "$$ \n",
    "d_0 = a \\cdot b + a  \\cdot  c\n",
    "$$\n",
    "\n",
    "and \n",
    "\n",
    "$$ \n",
    "d_1 = a \\cdot (b + c)\n",
    "$$\n",
    "\n",
    "when $a = 100$, $b = 0.1$ and $c = 0.2$. Store $d_{0}$ in the variable `d0` and $d_{1}$ in the variable `d1`.\n",
    "\n",
    "\n",
    "Try checking for equality, e.g. `print(d0 == d1)`. "
   ]
  },
  {
   "cell_type": "code",
   "metadata": {
    "nbgrader": {
     "grade": false,
     "grade_id": "cell-447110c225124fc4",
     "locked": false,
     "schema_version": 3,
     "solution": true
    },
    "tags": [],
    "ExecuteTime": {
     "end_time": "2024-10-15T18:58:59.717648Z",
     "start_time": "2024-10-15T18:58:59.709037Z"
    }
   },
   "source": [
    "a = 100\n",
    "b = 0.1\n",
    "c = 0.2\n",
    "\n",
    "d0 = a*b + a*c\n",
    "print(d0)\n",
    "\n",
    "d1 = a * (b+c)\n",
    "print(d1)\n",
    "\n",
    "print(d0 == d1)"
   ],
   "outputs": [
    {
     "name": "stdout",
     "output_type": "stream",
     "text": [
      "30.0\n",
      "30.000000000000004\n",
      "False\n"
     ]
    }
   ],
   "execution_count": 1
  },
  {
   "cell_type": "code",
   "metadata": {
    "nbgrader": {
     "grade": true,
     "grade_id": "cell-91f2d89d88ea86c0",
     "locked": true,
     "points": 0,
     "schema_version": 3,
     "solution": false
    },
    "ExecuteTime": {
     "end_time": "2024-10-15T18:59:01.481641Z",
     "start_time": "2024-10-15T18:59:01.473291Z"
    }
   },
   "source": [
    "## tests ##\n",
    "assert d0 == 30.0\n",
    "assert d1 != 30.0\n",
    "assert d0 != d1"
   ],
   "outputs": [],
   "execution_count": 2
  },
  {
   "cell_type": "markdown",
   "metadata": {},
   "source": [
    "<!-- END QUESTION -->\n",
    "\n",
    "## Exercise 03.2\n",
    "\n",
    "For the polynomial \n",
    "\\begin{align}\n",
    "f(x, y) &= (x + y)^{6} \n",
    "\\\\\n",
    "&=  x^6 + 6x^{5}y + 15x^{4}y^{2} + 20x^{3}y^{3} + 15x^{2}y^{4} + 6xy^{5} + y^{6}\n",
    "\\end{align}\n",
    "compute $f$ using: (i) the compact form $(x + y)^{6}$; and (ii) the expanded form for:\n",
    "\n",
    "(a) $x = 10$ and $y = 10.1$\n",
    "\n",
    "(b) $x = 10$ and $y = -10.1$\n",
    "\n",
    "and compare the number of significant digits for which the answers are the same.\n",
    "Store the answer for the compact version using the variable `f0`, and using the variable `f1` for the expanded version.\n",
    "\n",
    "For case (b), compare the computed and analytical solutions and consider the relative error.\n",
    "Which approach would you recommend for computing this expression?"
   ]
  },
  {
   "cell_type": "markdown",
   "metadata": {},
   "source": [
    "#### (a) $x = 10$ and $y = 10.1$"
   ]
  },
  {
   "metadata": {
    "ExecuteTime": {
     "end_time": "2024-10-21T20:46:20.221875Z",
     "start_time": "2024-10-21T20:46:20.215692Z"
    }
   },
   "cell_type": "code",
   "source": [
    "from math import factorial\n",
    "\n",
    "#function that computes the expanded value of (x+y)^n \n",
    "def expanded(x,y,n):\n",
    "    value = 0\n",
    "    for r in range(0, n+1):\n",
    "        value += (factorial(n)/(factorial(r) * factorial(n-r))) * (x**r) * (y**(n-r))\n",
    "    \n",
    "    return value\n"
   ],
   "outputs": [],
   "execution_count": 36
  },
  {
   "metadata": {
    "nbgrader": {
     "grade": false,
     "grade_id": "cell-e8428e3de87d5500",
     "locked": false,
     "schema_version": 3,
     "solution": true
    },
    "tags": [],
    "ExecuteTime": {
     "end_time": "2024-10-21T20:46:18.807201Z",
     "start_time": "2024-10-21T20:46:18.788191Z"
    }
   },
   "cell_type": "code",
   "source": [
    "x = 10.0\n",
    "y = 10.1\n",
    "\n",
    "f0 = (x+y) ** 6\n",
    "f1 = expanded(x,y,6)\n"
   ],
   "outputs": [],
   "execution_count": 35
  },
  {
   "cell_type": "code",
   "metadata": {
    "nbgrader": {
     "grade": true,
     "grade_id": "cell-55d184514edf3a67",
     "locked": true,
     "points": 0,
     "schema_version": 3,
     "solution": false
    },
    "ExecuteTime": {
     "end_time": "2024-10-21T20:10:17.221907Z",
     "start_time": "2024-10-21T20:10:17.208003Z"
    }
   },
   "source": [
    "## tests ##\n",
    "import math\n",
    "assert math.isclose(f0, 65944160.60120103, rel_tol=1e-10)\n",
    "assert math.isclose(f1, 65944160.601201, rel_tol=1e-10)"
   ],
   "outputs": [],
   "execution_count": 4
  },
  {
   "cell_type": "markdown",
   "metadata": {},
   "source": [
    "#### (b) $x = 10$ and $y = -10.1$"
   ]
  },
  {
   "cell_type": "code",
   "metadata": {
    "nbgrader": {
     "grade": false,
     "grade_id": "cell-1561d20281ff67f6",
     "locked": false,
     "schema_version": 3,
     "solution": true
    },
    "tags": [],
    "ExecuteTime": {
     "end_time": "2024-10-21T20:46:16.904080Z",
     "start_time": "2024-10-21T20:46:16.876099Z"
    }
   },
   "source": [
    "x = 10.0\n",
    "y = -10.1\n",
    "\n",
    "f0 = (x+y) ** 6\n",
    "f1 = expanded(x,y,6)\n",
    "\n",
    "print(f0,f1)\n"
   ],
   "outputs": [
    {
     "name": "stdout",
     "output_type": "stream",
     "text": [
      "9.999999999999788e-07 9.96515154838562e-07\n"
     ]
    }
   ],
   "execution_count": 34
  },
  {
   "cell_type": "code",
   "metadata": {
    "ExecuteTime": {
     "end_time": "2024-10-21T20:10:21.343627Z",
     "start_time": "2024-10-21T20:10:21.338695Z"
    }
   },
   "source": [
    "## tests ##\n",
    "import math\n",
    "assert math.isclose(f0, 1.0e-6, rel_tol=1e-10)\n",
    "assert math.isclose(f1, 1.0e-6, rel_tol=1e-2)"
   ],
   "outputs": [],
   "execution_count": 6
  },
  {
   "cell_type": "markdown",
   "metadata": {},
   "source": [
    "## Exercise 03.3\n",
    "\n",
    "Consider the expression\n",
    "\n",
    "$$\n",
    "f = \\frac{1}{\\sqrt{x^2 - 1} - x}\n",
    "$$\n",
    "\n",
    "When $x$ is very large, the denominator approaches zero, which can cause problems.\n",
    "\n",
    "Try rephrasing the problem and eliminating the fraction by multiplying the numerator and denominator by $\\sqrt{x^2 - 1} + x$ and evaluate the two versions of the expression when:\n",
    "\n",
    "(a) $x = 1 \\times 10^{7}$\n",
    "\n",
    "(b) $x = 1 \\times 10^{9}$ (You may get a Python error for this case. Why?)"
   ]
  },
  {
   "metadata": {},
   "cell_type": "markdown",
   "source": [
    "#### Workings for rearranged form:\n",
    "\n",
    "$$\n",
    "\\begin{align}\n",
    "f &= \\frac{1}{\\sqrt{x^2-1} - x} \\\\\n",
    "&= \\frac{\\sqrt{x^2-1} + x}{(\\sqrt{x^2-1} - x)(\\sqrt{x^2-1} + x)} \\\\ \\\\\n",
    "&= \\frac{\\sqrt{x^2-1} + x}{x^2 -1 -x^2} \\\\\n",
    "& = -\\left(\\sqrt{x^2-1} + x \\right) \\\\\n",
    "\\end{align}\n",
    "$$"
   ]
  },
  {
   "cell_type": "markdown",
   "metadata": {
    "nbgrader": {
     "grade": false,
     "grade_id": "cell-53e1abf388eedabe",
     "locked": true,
     "schema_version": 3,
     "solution": false
    }
   },
   "source": [
    "#### (a) $x = 1 \\times 10^{7}$"
   ]
  },
  {
   "cell_type": "code",
   "metadata": {
    "nbgrader": {
     "grade": true,
     "grade_id": "cell-149ac8791e7ff020",
     "locked": false,
     "points": 0,
     "schema_version": 3,
     "solution": true
    },
    "tags": [],
    "ExecuteTime": {
     "end_time": "2024-10-15T19:28:17.063400Z",
     "start_time": "2024-10-15T19:28:17.057615Z"
    }
   },
   "source": [
    "def expression1(x):\n",
    "    return 1/((x**2 - 1)**0.5 - x)\n",
    "\n",
    "def expression2(x):\n",
    "    return -1 * (((x**2 - 1)**0.5) + x)\n"
   ],
   "outputs": [],
   "execution_count": 45
  },
  {
   "metadata": {
    "ExecuteTime": {
     "end_time": "2024-10-15T19:28:18.338167Z",
     "start_time": "2024-10-15T19:28:18.331209Z"
    }
   },
   "cell_type": "code",
   "source": [
    "x= 1e7\n",
    "print(\"original Form:\", expression1(x))\n",
    "print(\"new form:\", expression2(x))"
   ],
   "outputs": [
    {
     "name": "stdout",
     "output_type": "stream",
     "text": [
      "original Form: -19884107.85185185\n",
      "new form: -19999999.999999948\n"
     ]
    }
   ],
   "execution_count": 46
  },
  {
   "cell_type": "markdown",
   "metadata": {
    "nbgrader": {
     "grade": false,
     "grade_id": "cell-bcc863a1c5c8a6f8",
     "locked": true,
     "schema_version": 3,
     "solution": false
    }
   },
   "source": [
    "#### (b) $x = 1 \\times 10^{9}$"
   ]
  },
  {
   "cell_type": "code",
   "metadata": {
    "nbgrader": {
     "grade": true,
     "grade_id": "cell-4ef986ef1f5838ba",
     "locked": false,
     "points": 0,
     "schema_version": 3,
     "solution": true
    },
    "tags": [],
    "ExecuteTime": {
     "end_time": "2024-10-15T19:37:50.400587Z",
     "start_time": "2024-10-15T19:37:50.388744Z"
    }
   },
   "source": [
    "x=1e9\n",
    "#print(\"original Form:\", expression1(x))\n",
    "print(\"new form:\", expression2(x))"
   ],
   "outputs": [
    {
     "name": "stdout",
     "output_type": "stream",
     "text": [
      "new form: -2000000000.0\n"
     ]
    }
   ],
   "execution_count": 51
  },
  {
   "metadata": {},
   "cell_type": "markdown",
   "source": "Python error because when $x=1\\times 10^{-9}, \\sqrt{x^2 - 1} \\approx x$ and therefore $\\sqrt{x^2 - 1} - x \\approx 0$. Since the computer can only store 64 bits, including the sign, which results in 17 sig. fig.'s the calculated difernce between the computer calculated values of $\\sqrt{x^2 - 1}$ and $x$ is 0, thus giving us a division by 0 error when running the original form."
  }
 ],
 "metadata": {
  "celltoolbar": "Create Assignment",
  "kernelspec": {
   "display_name": "Python 3 (ipykernel)",
   "language": "python",
   "name": "python3"
  },
  "language_info": {
   "codemirror_mode": {
    "name": "ipython",
    "version": 3
   },
   "file_extension": ".py",
   "mimetype": "text/x-python",
   "name": "python",
   "nbconvert_exporter": "python",
   "pygments_lexer": "ipython3",
   "version": "3.10.6"
  },
  "otter": {
   "OK_FORMAT": true,
   "assignment_name": "Exercises 3",
   "tests": {}
  }
 },
 "nbformat": 4,
 "nbformat_minor": 4
}
