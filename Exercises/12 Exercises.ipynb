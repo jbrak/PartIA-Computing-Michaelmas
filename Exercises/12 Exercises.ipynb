{
 "cells": [
  {
   "cell_type": "markdown",
   "metadata": {},
   "source": [
    "## Exercise 12.1\n",
    "\n",
    "Create a class to represent vectors of arbitrary length. Objects should be initialised with a list of values, e.g.:\n",
    "```python\n",
    "x = MyVector([0, 2, 4])\n",
    "```\n",
    "\n",
    "Equip the class with methods that:\n",
    "\n",
    "1. Return the length of the vector (use method. name `size`)\n",
    "2. Compute the norm of the vector $\\sqrt{x \\cdot x}$ (use method name `norm`)\n",
    "3. Compute the dot product of the vector with another vector (use method name `dot`)\n",
    "4. Rescale the vector by multiplying it by a scalar value (use method name `scale`)\n",
    "\n",
    "Test your implementation using two different vectors of length 3. \n",
    "\n",
    "To help you get started, an incomplete skeleton of the class is provided below. Don't forget to use `self` where necessary."
   ]
  },
  {
   "cell_type": "code",
   "execution_count": null,
   "metadata": {},
   "outputs": [],
   "source": [
    "from numba.parfors.parfor import dprint\n",
    "\n",
    "\n",
    "class MyVector:\n",
    "    \"\"\"A vector object that can return its size and norm, and can compute the dot product \n",
    "    with another vector  \"\"\"\n",
    "    \n",
    "    def __init__(self, x):\n",
    "        self.x = x\n",
    "        \n",
    "    # Return length of vector\n",
    "    def size(self):\n",
    "        # Add your code here\n",
    "        pass  # This can be removed once the body is added\n",
    "    \n",
    "    # This allows access by index, e.g. y[2]\n",
    "    def __getitem__(self, index):\n",
    "        return self.x[index]\n",
    "\n",
    "    # Return norm of vector\n",
    "    def norm(self):\n",
    "        # Add your code here\n",
    "        pass  # This can be removed once the body is added\n",
    "    \n",
    "    # Return dot product of vector with another vector\n",
    "    def dot(self, other):\n",
    "        # Add your code here\n",
    "        pass  # This can be removed once the body is added"
   ]
  },
  {
   "cell_type": "markdown",
   "metadata": {},
   "source": [
    "### Solution"
   ]
  },
  {
   "cell_type": "code",
   "metadata": {
    "nbgrader": {
     "grade": false,
     "grade_id": "cell-ff4d6cba19bb1b8e",
     "locked": false,
     "schema_version": 3,
     "solution": true
    },
    "tags": [],
    "ExecuteTime": {
     "end_time": "2024-10-31T20:50:44.177012Z",
     "start_time": "2024-10-31T20:50:44.163901Z"
    }
   },
   "source": [
    "import math  # Use this to get sqrt an isclose\n",
    "\n",
    "class MyVector:\n",
    "    \"\"\"A vector object that can return its size and norm, and can compute the dot product \n",
    "    with another vector  \"\"\"\n",
    "\n",
    "    def __init__(self, x:list):\n",
    "        self.x = x\n",
    "\n",
    "    # Return length of vector\n",
    "    def size(self):\n",
    "        return len(self.x)\n",
    "\n",
    "    # This allows access by index, e.g. y[2]\n",
    "    def __getitem__(self, index):\n",
    "        return self.x[index]\n",
    "\n",
    "    # Return dot product of vector with another vector\n",
    "    def dot(self, other):\n",
    "        dp = 0\n",
    "        \n",
    "        for i in range(len(self.x)):\n",
    "            dp+= self.x[i]*other[i]\n",
    "        \n",
    "        return dp\n",
    "        \n",
    "    # Return norm of vector\n",
    "    def norm(self):\n",
    "        return math.sqrt(self.dot(self.x))\n",
    "    \n",
    "    def scale(self, sf):\n",
    "        self.x = [i * (sf) for i in self.x]\n",
    "\n",
    "    "
   ],
   "outputs": [],
   "execution_count": 12
  },
  {
   "cell_type": "code",
   "metadata": {
    "nbgrader": {
     "grade": true,
     "grade_id": "cell-b601b5cc8cf8ab44",
     "locked": true,
     "points": 0,
     "schema_version": 3,
     "solution": false
    },
    "ExecuteTime": {
     "end_time": "2024-10-31T20:50:44.780262Z",
     "start_time": "2024-10-31T20:50:44.776198Z"
    }
   },
   "source": [
    "## tests ##\n",
    "\n",
    "# Create two vectors\n",
    "u = MyVector([1, 1, 2])\n",
    "v = MyVector([2, 1, 1])\n",
    "\n",
    "assert u.size() == 3\n",
    "assert math.isclose(u.norm(), 2.449489742783178)\n",
    "assert math.isclose(u.dot(v), 5.0)\n",
    "\n",
    "u.scale(2.0)\n",
    "assert math.isclose(u.norm(), 2 * 2.449489742783178)"
   ],
   "outputs": [],
   "execution_count": 13
  },
  {
   "cell_type": "markdown",
   "metadata": {
    "nbgrader": {
     "grade": false,
     "grade_id": "cell-d743191a516ffa05",
     "locked": true,
     "schema_version": 3,
     "solution": false
    }
   },
   "source": [
    "## Exercise 12.2\n",
    "\n",
    "For a student registry data base, we wish to create a class that holds the details for each student. For this:\n",
    "\n",
    "1. Create a class for holding a student record entry. It should have the following attributes:\n",
    "   - Surname\n",
    "   - Forename\n",
    "   - Birth year\n",
    "   - Tripos code (https://www.camsis.cam.ac.uk/files/student-codes/h01.html)\n",
    "   - College\n",
    "   - CRSid (optional field)\n",
    "1. Equip your class with the method `age` that returns the age of the student in whole years\n",
    "1. Equip your class with the method `__str__` such using `print` on a student record displays with the format\n",
    "\n",
    "       Surname: Bloggs, Forename: Andrea, Tripos: EGT0, College: Churchill\n",
    "\n",
    "1. Equip your class with the method `__lt__(self, other)` so that a list of record entries can be sorted by \n",
    "   (surname, forename) using the Python built-in sort function. \n",
    "   \n",
    "   Create a list of entries and test the sorting. Make sure you have two entries with the same\n",
    "   surname.\n",
    "\n",
    "> Recall that the methods starting with `__`, e.g. `__lt__` and `__str__`, should **not** be called directly. \n",
    "> Python will map them to other operations, e.g. __str__ is called when using `str`, and `__lt__` is called \n",
    "> when using `<`. These functions must have a return value.\n",
    "\n",
    "*Hint:* To get the current year:"
   ]
  },
  {
   "cell_type": "code",
   "metadata": {
    "ExecuteTime": {
     "end_time": "2024-10-31T20:51:08.971196Z",
     "start_time": "2024-10-31T20:51:08.960847Z"
    }
   },
   "source": [
    "import datetime\n",
    "year = datetime.date.today().year\n",
    "print(year)"
   ],
   "outputs": [
    {
     "name": "stdout",
     "output_type": "stream",
     "text": [
      "2024\n"
     ]
    }
   ],
   "execution_count": 14
  },
  {
   "cell_type": "markdown",
   "metadata": {},
   "source": [
    "### Solution"
   ]
  },
  {
   "cell_type": "code",
   "metadata": {
    "nbgrader": {
     "grade": false,
     "grade_id": "cell-6e857f6089fe0ba8",
     "locked": false,
     "schema_version": 3,
     "solution": true
    },
    "tags": [],
    "ExecuteTime": {
     "end_time": "2024-11-01T08:32:41.489870Z",
     "start_time": "2024-11-01T08:32:41.467974Z"
    }
   },
   "source": [
    "import datetime \n",
    "from math import floor\n",
    "\n",
    "class StudentEntry:\n",
    "    def __init__(self, surname, forename, birth_year, tripos, college, crsid=None):\n",
    "        self.surname = surname\n",
    "        self.forename = forename\n",
    "        self.birth_year = birth_year\n",
    "        self.tripos = tripos\n",
    "        self.college = college\n",
    "        self.crsid = crsid\n",
    "\n",
    "    def age(self):\n",
    "        return floor(datetime.date.today().year - self.birth_year)\n",
    "    \n",
    "    def __str__(self):\n",
    "        return f\"Surname: {self.surname}, Forename: {self.forename}, Tripos: {self.tripos}, College: {self.college}\"\n",
    "        \n",
    "    def __lt__(self, other):\n",
    "        \n",
    "        if self.surname == other.surname:\n",
    "            return self.forename < other.forename\n",
    "        else:\n",
    "            return self.surname < other.surname\n",
    "        "
   ],
   "outputs": [],
   "execution_count": 27
  },
  {
   "cell_type": "code",
   "metadata": {
    "nbgrader": {
     "grade": true,
     "grade_id": "cell-ce8aafb3e627dd86",
     "locked": true,
     "points": 0,
     "schema_version": 3,
     "solution": false
    },
    "ExecuteTime": {
     "end_time": "2024-11-01T08:32:43.055932Z",
     "start_time": "2024-11-01T08:32:43.027529Z"
    }
   },
   "source": [
    "## tests ##\n",
    "\n",
    "s0 = StudentEntry(\"Bloggs\", \"Andrea\", 2002, \"EGT0\", \"Churchill\", \"ab1001\")       \n",
    "s1 = StudentEntry(\"Reali\", \"John\", 2001, \"EGT1\", \"Corpus Christi\")       \n",
    "s2 = StudentEntry(\"Bacon\", \"Jo\", 2001, \"EGT0\", \"Newnham\")\n",
    "s3 = StudentEntry(\"Bacon\", \"Alexander\", 2002, \"EGT0\", \"Queens\")\n",
    "\n",
    "assert s0 < s1\n",
    "assert s0 > s2\n",
    "assert s3 < s2\n",
    "assert s0.age() ==  datetime.date.today().year - 2002 \n",
    "assert s1.age() ==  datetime.date.today().year - 2001\n",
    "assert str(s1) == \"Surname: Reali, Forename: John, Tripos: EGT1, College: Corpus Christi\"\n",
    "\n",
    "# Test sorting\n",
    "s = [s0, s1, s2, s3]\n",
    "s.sort()\n",
    "for earlier, later in zip(s, s[1:]):\n",
    "    assert earlier.surname <= later.surname\n",
    "    if earlier.surname == later.surname:\n",
    "        assert earlier.forename <= later.forename"
   ],
   "outputs": [],
   "execution_count": 28
  }
 ],
 "metadata": {
  "celltoolbar": "Create Assignment",
  "kernelspec": {
   "display_name": "Python 3 (ipykernel)",
   "language": "python",
   "name": "python3"
  },
  "language_info": {
   "codemirror_mode": {
    "name": "ipython",
    "version": 3
   },
   "file_extension": ".py",
   "mimetype": "text/x-python",
   "name": "python",
   "nbconvert_exporter": "python",
   "pygments_lexer": "ipython3",
   "version": "3.10.6"
  },
  "otter": {
   "OK_FORMAT": true,
   "assignment_name": "Exercises 12",
   "tests": {}
  }
 },
 "nbformat": 4,
 "nbformat_minor": 4
}
