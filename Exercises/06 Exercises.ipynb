{
 "cells": [
  {
   "cell_type": "markdown",
   "metadata": {
    "nbgrader": {
     "grade": false,
     "grade_id": "cell-7b3313f25bceb7a2",
     "locked": true,
     "schema_version": 3,
     "solution": false
    }
   },
   "source": [
    "## Exercise 06.1 (selecting and passing data structures)\n",
    "\n",
    "The task in Exercise 04 for computing the area of a triangle involved a function with six arguments ($x$ and $y$ components of each vertex). With six arguments, the likelihood of a user passing arguments in the wrong order is high. \n",
    "\n",
    "Use an appropriate data structure, e.g. a `list`, `tuple`, `dict`, etc, to develop a new version of the function with an improved interface (the interface is the arguments that are passed to the function) with fewer arguments. Add appropriate checks inside your function on the input data."
   ]
  },
  {
   "cell_type": "code",
   "metadata": {
    "nbgrader": {
     "grade": false,
     "grade_id": "cell-50c4566d7bcbffaf",
     "locked": false,
     "schema_version": 3,
     "solution": true
    },
    "tags": [],
    "ExecuteTime": {
     "end_time": "2024-10-24T13:47:13.282742Z",
     "start_time": "2024-10-24T13:47:13.275223Z"
    }
   },
   "source": [
    "import math\n",
    "def  area(point0:tuple, point1:tuple, point2:tuple):\n",
    "    return abs((point0[0]*(point1[1]-point2[1])+point1[0]*(point2[1]-point0[1])+point2[0]*(point0[1]-point1[1]))/2)\n",
    "\n",
    "point0 = (0.0, 0.0)\n",
    "point1 = (0.0, 2.0)\n",
    "point2 = (3.0, 0.0)\n",
    "\n",
    "A = area(point0, point1, point2)\n",
    "assert math.isclose(A, 3.0)"
   ],
   "outputs": [],
   "execution_count": 1
  },
  {
   "cell_type": "markdown",
   "metadata": {
    "nbgrader": {
     "grade": false,
     "grade_id": "cell-5065052af9989fdf",
     "locked": true,
     "schema_version": 3,
     "solution": false
    }
   },
   "source": [
    "## Exercise 06.2 (selecting data structures)\n",
    "\n",
    "For a simple (non-intersecting) polygon with $n$ vertices, $(x_0, y_0)$, $(x_1, y_1)$, . . , $(x_{n-1}, y_{n-1})$, the area $A$ is given by\n",
    "$$\n",
    "A = \\left| \\frac{1}{2} \\sum_{i=0}^{n-1} \\left(x_{i} y _{i+1} - x_{i+1} y_{i} \\right) \\right|\n",
    "$$\n",
    "and where $(x_n, y_n) = (x_0, y_0)$. The vertices should be ordered as you move around the polygon.\n",
    "\n",
    "Write a function that, given only the vertex coordinates, computes the area of a simple polygon. Test your function for some simple shapes. Pay careful attention to the range of any loops. **Test for polygons without a vertex at the origin.**"
   ]
  },
  {
   "cell_type": "code",
   "metadata": {
    "nbgrader": {
     "grade": false,
     "grade_id": "cell-4b5a619405787746",
     "locked": false,
     "schema_version": 3,
     "solution": true
    },
    "tags": [],
    "ExecuteTime": {
     "end_time": "2024-10-24T13:47:13.295572Z",
     "start_time": "2024-10-24T13:47:13.288635Z"
    }
   },
   "source": [
    "def polygon(points:list):\n",
    "    A = 0\n",
    "    for i in range(0, len(points)):\n",
    "        \n",
    "        try:\n",
    "            A += (points[i][0])*(points[i+1][1]) - (points[i+1][0])*(points[i][1])\n",
    "        except IndexError:\n",
    "            A += (points[i][0])*(points[0][1]) - (points[0][0])*(points[i][1])\n",
    "    \n",
    "    return abs(A/2)\n",
    "\n",
    "points = [(1,-1),(1,1),(-1,1)]\n",
    "assert math.isclose(polygon([(1,-1),(1,1),(-1,1)]), 2.0)\n",
    "assert math.isclose(polygon([(1,-1),(1,1),(-1,1),(-1,-1)]), 4.0)\n",
    "assert math.isclose(polygon([(1,-2),(2,1),(-1,2),(-2,-1)]), 10.0)"
   ],
   "outputs": [],
   "execution_count": 2
  },
  {
   "cell_type": "markdown",
   "metadata": {
    "nbgrader": {
     "grade": false,
     "grade_id": "cell-ced99a38c7bbe7a0",
     "locked": true,
     "schema_version": 3,
     "solution": false
    }
   },
   "source": [
    "## Exercise 06.3 (indexing)\n",
    "\n",
    "Write a function that uses list indexing to add two vectors of arbitrary length, and returns the new vector. Include a check that the vector sizes match. Print a warning message if there is a size mismatch. The more error information you provide, the easier it would be for someone using your function to debug their code.\n",
    "\n",
    "Add some tests of your code.\n",
    "\n",
    "#### Hint: You can create a list of zeros of length `n` by\n",
    "\n",
    "    z = [0]*n"
   ]
  },
  {
   "cell_type": "code",
   "metadata": {
    "nbgrader": {
     "grade": false,
     "grade_id": "cell-47daca03f7a96b62",
     "locked": false,
     "schema_version": 3,
     "solution": true
    },
    "tags": [],
    "ExecuteTime": {
     "end_time": "2024-10-24T13:47:13.485657Z",
     "start_time": "2024-10-24T13:47:13.480935Z"
    }
   },
   "source": [
    "def sum_vector(x, y):\n",
    "    \n",
    "    if len(x) != len(y):\n",
    "        print(\"Dimension error as the vectors are different sizes\")\n",
    "        \n",
    "    else:\n",
    "        c = [0]*len(x)\n",
    "        \n",
    "        for i in range(len(x)):\n",
    "            c[i] = x[i] + y[i]\n",
    "        \n",
    "        return c"
   ],
   "outputs": [],
   "execution_count": 3
  },
  {
   "cell_type": "code",
   "metadata": {
    "nbgrader": {
     "grade": true,
     "grade_id": "cell-95f5819810d2b2c7",
     "locked": true,
     "points": 0,
     "schema_version": 3,
     "solution": false
    },
    "ExecuteTime": {
     "end_time": "2024-10-24T13:47:13.499139Z",
     "start_time": "2024-10-24T13:47:13.495736Z"
    }
   },
   "source": [
    "# tests ##\n",
    "a = [0, 4.3, -5, 7]\n",
    "b = [-2, 7, -15, 1]\n",
    "c = sum_vector(a, b)\n",
    "assert c == [-2, 11.3, -20, 8]"
   ],
   "outputs": [],
   "execution_count": 4
  },
  {
   "cell_type": "markdown",
   "metadata": {},
   "source": [
    "### Optional (advanced) \n",
    "\n",
    "Try writing a one-line version that performs the `sum_vector` operation using list comprehension and the built-in function [`zip`](https://docs.python.org/3/library/functions.html#zip)."
   ]
  },
  {
   "cell_type": "code",
   "metadata": {
    "nbgrader": {
     "grade": true,
     "grade_id": "cell-c182b3f0d8952692",
     "locked": false,
     "points": 0,
     "schema_version": 3,
     "solution": true
    },
    "tags": [],
    "ExecuteTime": {
     "end_time": "2024-10-24T13:47:13.515908Z",
     "start_time": "2024-10-24T13:47:13.511110Z"
    }
   },
   "source": [
    "c = [i[0] + i[1] for i in zip(a,b)]\n",
    "print(c)"
   ],
   "outputs": [
    {
     "name": "stdout",
     "output_type": "stream",
     "text": [
      "[-2, 11.3, -20, 8]\n"
     ]
    }
   ],
   "execution_count": 5
  },
  {
   "cell_type": "markdown",
   "metadata": {},
   "source": [
    "## Exercise 06.4 (dictionaries)\n",
    "\n",
    "Create a dictionary that maps college names (the key) to college abbreviations for at least 5 colleges\n",
    "(you can find abbreviations at https://en.wikipedia.org/wiki/Colleges_of_the_University_of_Cambridge#Colleges).\n",
    "From the dictionary, produce and print\n",
    "\n",
    "1. A Python dictionary from college abbreviation to name; and\n",
    "1. A Python list of college abbreviations sorted into alphabetical order.\n",
    "\n",
    "*Optional extension:* Create a dictionary that maps college names (the key) to dictionaries of:\n",
    "\n",
    "- College abbreviation\n",
    "- Year of foundation \n",
    "- Total number students\n",
    " \n",
    "for at least 5 colleges. Take the data from https://en.wikipedia.org/wiki/Colleges_of_the_University_of_Cambridge#Colleges. Using this dictionary, \n",
    "\n",
    "1. Find the college with the greatest number of students and print the abbreviation; and \n",
    "2. Find the oldest college, and print the number of students and the abbreviation for this college."
   ]
  },
  {
   "cell_type": "code",
   "metadata": {
    "nbgrader": {
     "grade": false,
     "grade_id": "cell-bc271dc3885e19c5",
     "locked": false,
     "schema_version": 3,
     "solution": true
    },
    "tags": [],
    "ExecuteTime": {
     "end_time": "2024-10-24T13:47:13.548758Z",
     "start_time": "2024-10-24T13:47:13.543593Z"
    }
   },
   "source": [
    "collages = {\"Queens'\" : \"Q\", \n",
    "            \"Peterhouse\" : \"PET\",\n",
    "            \"Robinson\" : \"R\",\n",
    "            \"St Catharines\" : \"CTH\",\n",
    "            \"Trinity\" : \"T\"}\n",
    "    \n",
    "key_list = list(collages.keys())\n",
    "\n",
    "key_list.sort()\n",
    "\n",
    "collages = {i : collages[i] for i in key_list}\n",
    "\n",
    "print(collages)\n",
    "#abcdefghijklmno pqrst ovwxyz"
   ],
   "outputs": [
    {
     "name": "stdout",
     "output_type": "stream",
     "text": [
      "{'Peterhouse': 'PET', \"Queens'\": 'Q', 'Robinson': 'R', 'St Catharines': 'CTH', 'Trinity': 'T'}\n"
     ]
    }
   ],
   "execution_count": 6
  },
  {
   "cell_type": "markdown",
   "metadata": {
    "nbgrader": {
     "grade": false,
     "grade_id": "cell-45d2551a524193b0",
     "locked": true,
     "schema_version": 3,
     "solution": false
    }
   },
   "source": [
    "#### Optional extension"
   ]
  },
  {
   "cell_type": "code",
   "metadata": {
    "nbgrader": {
     "grade": false,
     "grade_id": "cell-7040c4053c72ce09",
     "locked": false,
     "schema_version": 3,
     "solution": true
    },
    "tags": [],
    "ExecuteTime": {
     "end_time": "2024-10-24T13:47:13.572989Z",
     "start_time": "2024-10-24T13:47:13.565839Z"
    }
   },
   "source": [
    "# {abriviation, year founded, student no.}\n",
    "collages = {\"Queens'\" : [\"Q\",1448,1021],\n",
    "            \"Peterhouse\" : [\"PET\", 1284, 470],\n",
    "            \"Robinson\" : [\"R\", 1977, 664],\n",
    "            \"St Catharines\" : [\"CTH\", 1473, 768],\n",
    "            \"Trinity\" : [\"T\", 1564, 1054]}\n",
    "\n",
    "oldest = \"\"\n",
    "smallest = 2024\n",
    "students = 0\n",
    "\n",
    "largest = \"\"\n",
    "num = 0\n",
    "for key,value in collages.items():\n",
    "    if value[1]  < smallest:\n",
    "        oldest = value[0]\n",
    "        smallest = value[1]\n",
    "        students = value[2]\n",
    "    \n",
    "    if value[2] > num:\n",
    "        largest = value[0]\n",
    "        num = value[2]\n",
    "\n",
    "print(\"The oldest collage is:\", oldest, \"they have\", students, \"number of students\")\n",
    "print(\"The collage with the most students is:\", largest)"
   ],
   "outputs": [
    {
     "name": "stdout",
     "output_type": "stream",
     "text": [
      "The oldest collage is: PET they have 470 number of students\n",
      "The collage with the most students is: T\n"
     ]
    }
   ],
   "execution_count": 7
  }
 ],
 "metadata": {
  "celltoolbar": "Create Assignment",
  "kernelspec": {
   "display_name": "Python 3 (ipykernel)",
   "language": "python",
   "name": "python3"
  },
  "language_info": {
   "codemirror_mode": {
    "name": "ipython",
    "version": 3
   },
   "file_extension": ".py",
   "mimetype": "text/x-python",
   "name": "python",
   "nbconvert_exporter": "python",
   "pygments_lexer": "ipython3",
   "version": "3.10.6"
  },
  "otter": {
   "OK_FORMAT": true,
   "assignment_name": "Exercises 6",
   "tests": {}
  }
 },
 "nbformat": 4,
 "nbformat_minor": 4
}
