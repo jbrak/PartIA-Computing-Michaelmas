{
 "cells": [
  {
   "cell_type": "markdown",
   "metadata": {},
   "source": [
    "## Exercise 09.1 (checking data validity)\n",
    "\n",
    "The Fibonacci series is valid only for $n \\ge 0$. Add to the Fibonacci function in this notebook a check that raises an exception if $n < 0$. Try some invalid data cases to check that an exception is raised.\n",
    "\n",
    "*Optional:* Use `pytest` to test that an exception *is* raised for some $n < 0$ cases."
   ]
  },
  {
   "cell_type": "code",
   "metadata": {
    "nbgrader": {
     "grade": false,
     "grade_id": "cell-982c3611466532a2",
     "locked": false,
     "schema_version": 3,
     "solution": true
    },
    "tags": [],
    "ExecuteTime": {
     "end_time": "2024-10-29T17:32:17.917753Z",
     "start_time": "2024-10-29T17:32:17.898994Z"
    }
   },
   "source": [
    "def f(n, count=1, prev1=1, prev2 = 0): \n",
    "    \"Compute the nth Fibonacci number using recursion\"\n",
    "    if n<0:\n",
    "        raise ValueError(\"n must be greater than 0\")\n",
    "    \n",
    "    elif n==0:\n",
    "        return prev2\n",
    "    \n",
    "    elif n > count:\n",
    "        #print(prev1, prev2)\n",
    "        prev1, prev2 = (prev1 + prev2), (prev1)\n",
    "        #print(prev1, prev2)\n",
    "        count+=1\n",
    "        return f(n, count, prev1, prev2)\n",
    "    \n",
    "    else:\n",
    "        return(prev1)\n",
    "    "
   ],
   "outputs": [],
   "execution_count": 28
  },
  {
   "cell_type": "code",
   "metadata": {
    "nbgrader": {
     "grade": true,
     "grade_id": "cell-9b97ea3e85d77f4a",
     "locked": true,
     "points": 0,
     "schema_version": 3,
     "solution": false
    },
    "ExecuteTime": {
     "end_time": "2024-10-29T17:32:19.473903Z",
     "start_time": "2024-10-29T17:32:19.465632Z"
    }
   },
   "source": [
    "## tests ##\n",
    "\n",
    "# Perform some tests    \n",
    "assert f(0) == 0\n",
    "assert f(1) == 1\n",
    "assert f(2) == 1\n",
    "assert f(3) == 2\n",
    "assert f(10) == 55\n",
    "assert f(15) == 610\n",
    "\n",
    "# Check that ValueError is raised for n < 0\n",
    "import pytest\n",
    "with pytest.raises(ValueError):\n",
    "    f(-1)\n",
    "with pytest.raises(ValueError):\n",
    "    f(-2)"
   ],
   "outputs": [],
   "execution_count": 29
  },
  {
   "cell_type": "markdown",
   "metadata": {
    "nbgrader": {
     "grade": false,
     "grade_id": "cell-69c78c0ffc19db36",
     "locked": true,
     "schema_version": 3,
     "solution": false
    }
   },
   "source": [
    "## Exercise 09.2 (raising exceptions)\n",
    "\n",
    "Modify your program from the bisection exercise in Activity 04 to raise an error if the maximum number of iterations is exceeded. Reduce the maximum allowed iterations to test that an exception is raised.\n",
    "\n",
    "Add any other checks on the input data that you think are appropriate."
   ]
  },
  {
   "cell_type": "code",
   "metadata": {
    "nbgrader": {
     "grade": false,
     "grade_id": "cell-ca2c3ee62ad3b956",
     "locked": false,
     "schema_version": 3,
     "solution": true
    },
    "tags": [],
    "ExecuteTime": {
     "end_time": "2024-10-29T17:41:56.474746Z",
     "start_time": "2024-10-29T17:41:56.450891Z"
    }
   },
   "source": [
    "def my_f(x):\n",
    "    \"\"\"Evaluate polynomial function\"\"\"\n",
    "    return x**5 / 10 + x**3 - 10 * x**2 + 4 * x + 7\n",
    "\n",
    "def compute_root(f, x0, x1, tol, max_it):\n",
    "    # Iterate until tolerance is met\n",
    "    it = 0\n",
    "    error = tol + 1.0\n",
    "    \n",
    "    if type(max_it) != int or max_it<0:\n",
    "        raise ValueError(\"max_it must be a positive integer\")\n",
    "    \n",
    "    if tol<0:\n",
    "        raise ValueError(\"tol must be positive \")\n",
    "    \n",
    "    if (type(x0) != int and type(x0) != float) or (type(x1) != int and type(x1) != float):\n",
    "        raise ValueError(\"x0 and x1 must be numbers\")\n",
    "    \n",
    "    while error > tol:\n",
    "        # Compute midpoint\n",
    "        x_mid = (x0 + x1) / 2\n",
    "\n",
    "        # Evaluate function at (i) left end-point and at (ii) midpoint\n",
    "        f0 = f(x0)\n",
    "        f_mid = f(x_mid)\n",
    "\n",
    "        if f0*f_mid < 0:\n",
    "            x1 = x_mid\n",
    "        else:\n",
    "            x0 = x_mid\n",
    "\n",
    "        error = abs(f_mid)\n",
    "        it += 1\n",
    "\n",
    "        # Guard against an infinite loop\n",
    "        if it > max_it:\n",
    "            raise RuntimeError(\"Exceeded Max Iterations\")\n",
    "\n",
    "    return x_mid, f_mid, it"
   ],
   "outputs": [],
   "execution_count": 37
  },
  {
   "cell_type": "code",
   "metadata": {
    "nbgrader": {
     "grade": true,
     "grade_id": "cell-f6cf91ed5dd1736b",
     "locked": true,
     "points": 0,
     "schema_version": 3,
     "solution": false
    },
    "ExecuteTime": {
     "end_time": "2024-10-29T17:41:59.769107Z",
     "start_time": "2024-10-29T17:41:59.761850Z"
    }
   },
   "source": [
    "## tests ##\n",
    "\n",
    "# Test with max_it = 30\n",
    "x, f, num_it = compute_root(my_f, x0=0, x1=2, tol=1.0e-6, max_it=30)\n",
    "\n",
    "# Test with max_it = 20\n",
    "with pytest.raises(RuntimeError):\n",
    "    x, f, num_it = compute_root(my_f, x0=0, x1=2, tol=1.0e-6, max_it=20)"
   ],
   "outputs": [],
   "execution_count": 39
  }
 ],
 "metadata": {
  "celltoolbar": "Create Assignment",
  "kernelspec": {
   "display_name": "Python 3 (ipykernel)",
   "language": "python",
   "name": "python3"
  },
  "language_info": {
   "codemirror_mode": {
    "name": "ipython",
    "version": 3
   },
   "file_extension": ".py",
   "mimetype": "text/x-python",
   "name": "python",
   "nbconvert_exporter": "python",
   "pygments_lexer": "ipython3",
   "version": "3.10.6"
  },
  "otter": {
   "OK_FORMAT": true,
   "assignment_name": "Exercises 9",
   "tests": {}
  }
 },
 "nbformat": 4,
 "nbformat_minor": 4
}
